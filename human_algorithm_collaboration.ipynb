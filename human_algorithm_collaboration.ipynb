{
 "cells": [
  {
   "cell_type": "code",
   "execution_count": 1,
   "metadata": {},
   "outputs": [],
   "source": [
    "import pandas as pd\n",
    "import matplotlib.pyplot as plt\n",
    "import numpy as np\n",
    "from itertools import product"
   ]
  },
  {
   "cell_type": "markdown",
   "metadata": {},
   "source": [
    "First, we define multiple possible weighting functions (the weight that the combined system places on the human).. Each of them takes as inputs $a$, the algorithm's loss and $h$, the unaided human's loss. Based on these values (as well as potentially other parameters) it returns a weight between 0 and 1. "
   ]
  },
  {
   "cell_type": "code",
   "execution_count": 2,
   "metadata": {},
   "outputs": [],
   "source": [
    "def min_w(a, h):\n",
    "    '''\n",
    "    Weight of 1 on unaided human whenever they have LOWER loss (combining function becomes minimum function).  \n",
    "    '''\n",
    "    return (h < a)*1.0\n",
    "\n",
    "def max_w(a, h):\n",
    "    '''\n",
    "    Weight of 1 on unaided human whenever they have HIGHER loss (combining function becomes maximum function).  \n",
    "    '''\n",
    "    return (h > a)*1.0\n",
    "\n",
    "def exemplar_calc(a, h, m, b):\n",
    "    '''\n",
    "    Novel model to this work. Gives a weight that scales linearly with the gap between loss of algorithm and\n",
    "    and unaided human (a-h) with additive constant b and multiplicative constant m. \n",
    "    \n",
    "    '''\n",
    "    return (b+m*(a-h)).clip(lower = 0, upper =1)\n",
    "\n",
    "def bansal_calc(a, h, ps, epsilon):\n",
    "    '''\n",
    "    Approximate version of model in Bansal et al. Gives a weight of 1-p_s on the human whenever the algorithm\n",
    "    has loss epsilon lower than the unaided human (otherwise, weight p_s on the human). \n",
    "    \n",
    "    '''\n",
    "    return (pd.DataFrame([1-ps] *len(a)).where(a<=h - epsilon).fillna(0) + \n",
    "            pd.DataFrame([ps] * len(a)).where(a>h- epsilon).fillna(0))\n",
    "\n",
    "def vodrahalli_calc(a, h, epsilon, m, b):\n",
    "    '''\n",
    "    Approximate version of model in Vodrahalli et al. Gives a weight of 1 on the human whenever the algorithm\n",
    "    has loss epsilon higher than the unaided human. Otherwise, give a weight that scales linearly with the \n",
    "    difference in losses a-h (here, using exemplar function). \n",
    "    \n",
    "    '''\n",
    "    return exemplar_calc(a, h, m, b).where(a<= h-epsilon).fillna(1)"
   ]
  },
  {
   "cell_type": "code",
   "execution_count": 3,
   "metadata": {},
   "outputs": [],
   "source": [
    "def comb_calc(p =0.5, A = 0.5, H = 1, weight_func = exemplar_calc, kwargs={'b': 0.5, 'm': 0.5}, \n",
    "                  dh = None, da = None, weight_vals = [0.5, 0.6], n_points = 50):\n",
    "    '''\n",
    "    Calculate combined error for N=2 regimes. \n",
    "    \n",
    "\n",
    "    Args:\n",
    "        p: frequency of 1st instance type\n",
    "        A: average error for algorithm\n",
    "        H: average error for human\n",
    "        weight_func: if not None, the weight function\n",
    "        kwargs: arguments for weight function\n",
    "        dh: if not None, the variability for human (instance type 0 error is H + dh, type 1 is H - dh). \n",
    "            if None, creates a dataframe of dh values. \n",
    "        da: if not None, the variability for algorithm (instance type 0 error is A + da, type 1 is A - da). \n",
    "            if None, creates a dataframe of da values. \n",
    "        weight_vals: if weight is None, the manual weight for human in regime 1, regime 2 (length 2 list)\n",
    "        n_points: number of points to explore, if dh, da are None\n",
    "    Returns:\n",
    "        dataframe with errors (for each of unaided human, algorithm, combined error) for each dh, da value.  \n",
    "    '''\n",
    "    \n",
    "    df = pd.DataFrame()\n",
    "    \n",
    "    if (dh == None) & (da == None):\n",
    "        # Explore all plausible dh, da values (that don't lead to negative losses)\n",
    "        dh_col = pd.DataFrame(np.linspace(-H, H *(1-p)/p, n_points))[0]\n",
    "        da_col = pd.DataFrame(np.linspace(-A, A*(1-p)/p, n_points))[0]\n",
    "        # Look at all combinations of da, dh values\n",
    "        productframe = pd.DataFrame(list(product(dh_col, da_col)))\n",
    "        df['dh'] = productframe[0]\n",
    "        df['da'] = productframe[1]\n",
    "    elif (dh == None) | (da == None): \n",
    "        print('Error: dh and da must match')\n",
    "    else: \n",
    "        # Use provided dh, da values\n",
    "        df['dh'] = pd.DataFrame(dh)[0]\n",
    "        df['da'] = pd.DataFrame(da)[0]\n",
    "        \n",
    "    # calculate losses for algorithm, unaided human\n",
    "    df['a1'] = A + df['da']\n",
    "    df['a2'] = A - df['da']*p/(1-p)\n",
    "    \n",
    "    df['h1'] = H + df['dh']\n",
    "    df['h2'] = H - df['dh']*p/(1-p)\n",
    "    \n",
    "    if weight_func == None:\n",
    "        # use user-provided weights\n",
    "        df['w1'] = weight_vals[0]\n",
    "        df['w2'] = weight_vals[1]\n",
    "    else:\n",
    "        # calculate weights\n",
    "        df['w1'] = weight_func(df['a1'], df['h1'], **kwargs)\n",
    "        df['w2'] = weight_func(df['a2'], df['h2'], **kwargs)\n",
    "    \n",
    "    # calculate combined loss\n",
    "    df['c1']  = df['w1']*df['h1'] + (1-df['w1'])*df['a1']\n",
    "    df['c2']  = df['w2']*df['h2'] + (1-df['w2'])*df['a2']\n",
    "    df['loss'] = df['c1']*p + df['c2']*(1-p)\n",
    "    \n",
    "    df['diffdelta'] = np.abs(df['da'] - df['dh']) # sum of delta terms (measures variability)\n",
    "    df['diff1'] = df['h1'] - df['a1'] # gap between unaided human and algorithm in regime 1\n",
    "    \n",
    "    return df.sort_values(by = 'diffdelta')"
   ]
  },
  {
   "cell_type": "markdown",
   "metadata": {},
   "source": [
    "Code for motivating example (Tables 1-4) and Tables 5-7.  "
   ]
  },
  {
   "cell_type": "code",
   "execution_count": 4,
   "metadata": {},
   "outputs": [
    {
     "data": {
      "text/html": [
       "<div>\n",
       "<style scoped>\n",
       "    .dataframe tbody tr th:only-of-type {\n",
       "        vertical-align: middle;\n",
       "    }\n",
       "\n",
       "    .dataframe tbody tr th {\n",
       "        vertical-align: top;\n",
       "    }\n",
       "\n",
       "    .dataframe thead th {\n",
       "        text-align: right;\n",
       "    }\n",
       "</style>\n",
       "<table border=\"1\" class=\"dataframe\">\n",
       "  <thead>\n",
       "    <tr style=\"text-align: right;\">\n",
       "      <th></th>\n",
       "      <th>dh</th>\n",
       "      <th>da</th>\n",
       "      <th>a1</th>\n",
       "      <th>a2</th>\n",
       "      <th>h1</th>\n",
       "      <th>h2</th>\n",
       "      <th>w1</th>\n",
       "      <th>w2</th>\n",
       "      <th>c1</th>\n",
       "      <th>c2</th>\n",
       "      <th>loss</th>\n",
       "      <th>diffdelta</th>\n",
       "      <th>diff1</th>\n",
       "    </tr>\n",
       "  </thead>\n",
       "  <tbody>\n",
       "    <tr>\n",
       "      <th>0</th>\n",
       "      <td>0.25</td>\n",
       "      <td>-0.15</td>\n",
       "      <td>0.35</td>\n",
       "      <td>0.65</td>\n",
       "      <td>1.0</td>\n",
       "      <td>0.5</td>\n",
       "      <td>0.9</td>\n",
       "      <td>0.1</td>\n",
       "      <td>0.935</td>\n",
       "      <td>0.635</td>\n",
       "      <td>0.785</td>\n",
       "      <td>0.4</td>\n",
       "      <td>0.65</td>\n",
       "    </tr>\n",
       "  </tbody>\n",
       "</table>\n",
       "</div>"
      ],
      "text/plain": [
       "     dh    da    a1    a2   h1   h2   w1   w2     c1     c2   loss  diffdelta  \\\n",
       "0  0.25 -0.15  0.35  0.65  1.0  0.5  0.9  0.1  0.935  0.635  0.785        0.4   \n",
       "\n",
       "   diff1  \n",
       "0   0.65  "
      ]
     },
     "execution_count": 4,
     "metadata": {},
     "output_type": "execute_result"
    }
   ],
   "source": [
    "# Scenario 1\n",
    "comb_calc(A = 0.5, H = 0.75, weight_func = None, dh = [0.25], da = [-0.15], weight_vals = [0.9, 0.1]) "
   ]
  },
  {
   "cell_type": "code",
   "execution_count": 5,
   "metadata": {},
   "outputs": [
    {
     "data": {
      "text/html": [
       "<div>\n",
       "<style scoped>\n",
       "    .dataframe tbody tr th:only-of-type {\n",
       "        vertical-align: middle;\n",
       "    }\n",
       "\n",
       "    .dataframe tbody tr th {\n",
       "        vertical-align: top;\n",
       "    }\n",
       "\n",
       "    .dataframe thead th {\n",
       "        text-align: right;\n",
       "    }\n",
       "</style>\n",
       "<table border=\"1\" class=\"dataframe\">\n",
       "  <thead>\n",
       "    <tr style=\"text-align: right;\">\n",
       "      <th></th>\n",
       "      <th>dh</th>\n",
       "      <th>da</th>\n",
       "      <th>a1</th>\n",
       "      <th>a2</th>\n",
       "      <th>h1</th>\n",
       "      <th>h2</th>\n",
       "      <th>w1</th>\n",
       "      <th>w2</th>\n",
       "      <th>c1</th>\n",
       "      <th>c2</th>\n",
       "      <th>loss</th>\n",
       "      <th>diffdelta</th>\n",
       "      <th>diff1</th>\n",
       "    </tr>\n",
       "  </thead>\n",
       "  <tbody>\n",
       "    <tr>\n",
       "      <th>0</th>\n",
       "      <td>0.25</td>\n",
       "      <td>-0.15</td>\n",
       "      <td>0.35</td>\n",
       "      <td>0.65</td>\n",
       "      <td>1.0</td>\n",
       "      <td>0.5</td>\n",
       "      <td>0.25</td>\n",
       "      <td>0.75</td>\n",
       "      <td>0.5125</td>\n",
       "      <td>0.5375</td>\n",
       "      <td>0.525</td>\n",
       "      <td>0.4</td>\n",
       "      <td>0.65</td>\n",
       "    </tr>\n",
       "  </tbody>\n",
       "</table>\n",
       "</div>"
      ],
      "text/plain": [
       "     dh    da    a1    a2   h1   h2    w1    w2      c1      c2   loss  \\\n",
       "0  0.25 -0.15  0.35  0.65  1.0  0.5  0.25  0.75  0.5125  0.5375  0.525   \n",
       "\n",
       "   diffdelta  diff1  \n",
       "0        0.4   0.65  "
      ]
     },
     "execution_count": 5,
     "metadata": {},
     "output_type": "execute_result"
    }
   ],
   "source": [
    "# Scenario 2\n",
    "comb_calc(A = 0.5, H = 0.75, weight_func = None, dh = [0.25], da = [-0.15], weight_vals = [0.25, 0.75]) "
   ]
  },
  {
   "cell_type": "code",
   "execution_count": 6,
   "metadata": {},
   "outputs": [
    {
     "data": {
      "text/html": [
       "<div>\n",
       "<style scoped>\n",
       "    .dataframe tbody tr th:only-of-type {\n",
       "        vertical-align: middle;\n",
       "    }\n",
       "\n",
       "    .dataframe tbody tr th {\n",
       "        vertical-align: top;\n",
       "    }\n",
       "\n",
       "    .dataframe thead th {\n",
       "        text-align: right;\n",
       "    }\n",
       "</style>\n",
       "<table border=\"1\" class=\"dataframe\">\n",
       "  <thead>\n",
       "    <tr style=\"text-align: right;\">\n",
       "      <th></th>\n",
       "      <th>dh</th>\n",
       "      <th>da</th>\n",
       "      <th>a1</th>\n",
       "      <th>a2</th>\n",
       "      <th>h1</th>\n",
       "      <th>h2</th>\n",
       "      <th>w1</th>\n",
       "      <th>w2</th>\n",
       "      <th>c1</th>\n",
       "      <th>c2</th>\n",
       "      <th>loss</th>\n",
       "      <th>diffdelta</th>\n",
       "      <th>diff1</th>\n",
       "    </tr>\n",
       "  </thead>\n",
       "  <tbody>\n",
       "    <tr>\n",
       "      <th>0</th>\n",
       "      <td>0.4</td>\n",
       "      <td>-0.3</td>\n",
       "      <td>0.2</td>\n",
       "      <td>0.8</td>\n",
       "      <td>1.15</td>\n",
       "      <td>0.35</td>\n",
       "      <td>0.25</td>\n",
       "      <td>0.75</td>\n",
       "      <td>0.4375</td>\n",
       "      <td>0.4625</td>\n",
       "      <td>0.45</td>\n",
       "      <td>0.7</td>\n",
       "      <td>0.95</td>\n",
       "    </tr>\n",
       "  </tbody>\n",
       "</table>\n",
       "</div>"
      ],
      "text/plain": [
       "    dh   da   a1   a2    h1    h2    w1    w2      c1      c2  loss  \\\n",
       "0  0.4 -0.3  0.2  0.8  1.15  0.35  0.25  0.75  0.4375  0.4625  0.45   \n",
       "\n",
       "   diffdelta  diff1  \n",
       "0        0.7   0.95  "
      ]
     },
     "execution_count": 6,
     "metadata": {},
     "output_type": "execute_result"
    }
   ],
   "source": [
    "# Scenario 3 & Table 5 (anti-correlated error)\n",
    "comb_calc(A = 0.5, H = 0.75, weight_func = None, dh = [0.4], da = [-0.3], weight_vals = [0.25, 0.75]) "
   ]
  },
  {
   "cell_type": "code",
   "execution_count": 7,
   "metadata": {},
   "outputs": [
    {
     "data": {
      "text/html": [
       "<div>\n",
       "<style scoped>\n",
       "    .dataframe tbody tr th:only-of-type {\n",
       "        vertical-align: middle;\n",
       "    }\n",
       "\n",
       "    .dataframe tbody tr th {\n",
       "        vertical-align: top;\n",
       "    }\n",
       "\n",
       "    .dataframe thead th {\n",
       "        text-align: right;\n",
       "    }\n",
       "</style>\n",
       "<table border=\"1\" class=\"dataframe\">\n",
       "  <thead>\n",
       "    <tr style=\"text-align: right;\">\n",
       "      <th></th>\n",
       "      <th>dh</th>\n",
       "      <th>da</th>\n",
       "      <th>a1</th>\n",
       "      <th>a2</th>\n",
       "      <th>h1</th>\n",
       "      <th>h2</th>\n",
       "      <th>w1</th>\n",
       "      <th>w2</th>\n",
       "      <th>c1</th>\n",
       "      <th>c2</th>\n",
       "      <th>loss</th>\n",
       "      <th>diffdelta</th>\n",
       "      <th>diff1</th>\n",
       "    </tr>\n",
       "  </thead>\n",
       "  <tbody>\n",
       "    <tr>\n",
       "      <th>0</th>\n",
       "      <td>0.73</td>\n",
       "      <td>0.03</td>\n",
       "      <td>0.53</td>\n",
       "      <td>0.47</td>\n",
       "      <td>1.48</td>\n",
       "      <td>0.02</td>\n",
       "      <td>0.25</td>\n",
       "      <td>0.75</td>\n",
       "      <td>0.7675</td>\n",
       "      <td>0.1325</td>\n",
       "      <td>0.45</td>\n",
       "      <td>0.7</td>\n",
       "      <td>0.95</td>\n",
       "    </tr>\n",
       "  </tbody>\n",
       "</table>\n",
       "</div>"
      ],
      "text/plain": [
       "     dh    da    a1    a2    h1    h2    w1    w2      c1      c2  loss  \\\n",
       "0  0.73  0.03  0.53  0.47  1.48  0.02  0.25  0.75  0.7675  0.1325  0.45   \n",
       "\n",
       "   diffdelta  diff1  \n",
       "0        0.7   0.95  "
      ]
     },
     "execution_count": 7,
     "metadata": {},
     "output_type": "execute_result"
    }
   ],
   "source": [
    "# Table 6 (correlated error)\n",
    "comb_calc(A = 0.5, H = 0.75, weight_func = None, dh = [0.73], da = [0.03], weight_vals = [0.25, 0.75]) "
   ]
  },
  {
   "cell_type": "code",
   "execution_count": 8,
   "metadata": {},
   "outputs": [
    {
     "data": {
      "text/html": [
       "<div>\n",
       "<style scoped>\n",
       "    .dataframe tbody tr th:only-of-type {\n",
       "        vertical-align: middle;\n",
       "    }\n",
       "\n",
       "    .dataframe tbody tr th {\n",
       "        vertical-align: top;\n",
       "    }\n",
       "\n",
       "    .dataframe thead th {\n",
       "        text-align: right;\n",
       "    }\n",
       "</style>\n",
       "<table border=\"1\" class=\"dataframe\">\n",
       "  <thead>\n",
       "    <tr style=\"text-align: right;\">\n",
       "      <th></th>\n",
       "      <th>0</th>\n",
       "      <th>1</th>\n",
       "      <th>2</th>\n",
       "    </tr>\n",
       "  </thead>\n",
       "  <tbody>\n",
       "    <tr>\n",
       "      <th>0</th>\n",
       "      <td>0.895</td>\n",
       "      <td>0.05255</td>\n",
       "      <td>0.255</td>\n",
       "    </tr>\n",
       "  </tbody>\n",
       "</table>\n",
       "</div>"
      ],
      "text/plain": [
       "       0        1      2\n",
       "0  0.895  0.05255  0.255"
      ]
     },
     "execution_count": 8,
     "metadata": {},
     "output_type": "execute_result"
    }
   ],
   "source": [
    "# Table 7 (loss disparity increased in combined system)\n",
    "a_loss = pd.DataFrame([0.85, 0.02, 0.45]).T # loss of algorithm in each of N=3 regimes\n",
    "h_loss = pd.DataFrame([0.95, 0.95, 0.15]).T # loss of unaided human\n",
    "weight_vals = exemplar_calc(a_loss, h_loss, m = 0.5, b = 0.5) # weights calculated with exemplar function\n",
    "c_loss = weight_vals * h_loss + (1-weight_vals)*a_loss # combined loss\n",
    "c_loss"
   ]
  },
  {
   "cell_type": "markdown",
   "metadata": {},
   "source": [
    "Code to create Figure 1 (plots the combed loss, according to multiple combining functions). "
   ]
  },
  {
   "cell_type": "code",
   "execution_count": 9,
   "metadata": {},
   "outputs": [],
   "source": [
    "# calculate combined loss\n",
    "bansal = comb_calc(weight_func = bansal_calc, kwargs = {'ps': 0.9, 'epsilon': 0.1})\n",
    "vodrahalli = comb_calc(weight_func = vodrahalli_calc, kwargs = {'b': 0.5, 'm': 0.6, 'epsilon': 0.05})\n",
    "min_val = comb_calc(weight_func = min_w, kwargs = {})\n",
    "exemplar = comb_calc(kwargs = {'b': 0.5, 'm': 0.6})"
   ]
  },
  {
   "cell_type": "code",
   "execution_count": 10,
   "metadata": {},
   "outputs": [
    {
     "data": {
      "image/png": "[encoded data removed]",
      "text/plain": [
       "<Figure size 720x504 with 1 Axes>"
      ]
     },
     "metadata": {
      "needs_background": "light"
     },
     "output_type": "display_data"
    }
   ],
   "source": [
    "fig, ax = plt.subplots(1, 1)\n",
    "fig = plt.gcf()\n",
    "fig.set_size_inches(10, 7)\n",
    "\n",
    "algerr = [0.5] * len(bansal['da']) # average loss of algorithm is 0.5\n",
    "\n",
    "\n",
    "ax.plot(bansal['diffdelta'], bansal['loss'], 'y-.', lw=5, alpha=0.6, label='bansal')\n",
    "ax.plot(vodrahalli['diffdelta'], vodrahalli['loss'],'c-.',  lw=5, alpha=0.6, label='vodrahalli')\n",
    "ax.plot(min_val['diffdelta'], min_val['loss'],'g-.',  lw=5, alpha=0.6, label='min')\n",
    "ax.plot(exemplar['diffdelta'], exemplar['loss'], 'r-.', lw=5, alpha=0.6, label='exemplar')\n",
    "ax.plot(exemplar['diffdelta'], algerr, 'k--', lw=5, alpha=0.8, label='algorithm alone')\n",
    "ax.set_xlabel(r'$\\vert\\delta_a - \\delta_h\\vert$', fontsize = 20)\n",
    "ax.set_ylabel('Loss', fontsize = 20)\n",
    "ax.set_title('Combined loss as a function of variability', fontsize = 20)\n",
    "ax.legend(loc='best', frameon=False, fontsize = 12)\n",
    "\n",
    "plt.show()"
   ]
  },
  {
   "cell_type": "markdown",
   "metadata": {},
   "source": [
    "Code to create Figure 3 (plots the weight placed on the unaided human for various combining functions). "
   ]
  },
  {
   "cell_type": "code",
   "execution_count": 11,
   "metadata": {},
   "outputs": [
    {
     "data": {
      "image/png": "[encoded data removed]",
      "text/plain": [
       "<Figure size 720x360 with 1 Axes>"
      ]
     },
     "metadata": {
      "needs_background": "light"
     },
     "output_type": "display_data"
    }
   ],
   "source": [
    "# sort combined error by gap\n",
    "bansal_d1 = bansal.sort_values(by = 'diff1')\n",
    "vodrahalli_d1 = vodrahalli.sort_values(by = 'diff1')\n",
    "min_val_d1 = min_val.sort_values(by = 'diff1')\n",
    "exemplar_d1 = exemplar.sort_values(by = 'diff1')\n",
    "\n",
    "# plot weight each weighting function places on unaided human\n",
    "fig, ax = plt.subplots(1, 1) # \n",
    "fig = plt.gcf()\n",
    "fig.set_size_inches(10, 5)\n",
    "\n",
    "ax.plot(bansal_d1['diff1'], bansal_d1['w1'], 'y-.', lw=5, alpha=0.6, label='bansal')\n",
    "ax.plot(vodrahalli_d1['diff1'], vodrahalli_d1['w1'], 'c-.', lw=5, alpha=0.6, label='vodrahalli')\n",
    "ax.plot(min_val_d1['diff1'], min_val_d1['w1'],'g-.', lw=5, alpha=0.6, label='min')\n",
    "ax.plot(exemplar_d1['diff1'], exemplar_d1['w1'], 'r-.', lw=5, alpha=0.6, label='exemplar')\n",
    "ax.set_xlabel('h - a', fontsize = 18)\n",
    "ax.set_ylabel('Weight', fontsize =18)\n",
    "ax.set_title('Weight on human', fontsize = 18)\n",
    "ax.legend(loc='best', frameon=False, fontsize = 12)\n",
    "\n",
    "plt.show()"
   ]
  },
  {
   "cell_type": "code",
   "execution_count": null,
   "metadata": {},
   "outputs": [],
   "source": []
  }
 ],
 "metadata": {
  "kernelspec": {
   "display_name": "Python 3",
   "language": "python",
   "name": "python3"
  },
  "language_info": {
   "codemirror_mode": {
    "name": "ipython",
    "version": 3
   },
   "file_extension": ".py",
   "mimetype": "text/x-python",
   "name": "python",
   "nbconvert_exporter": "python",
   "pygments_lexer": "ipython3",
   "version": "3.7.5"
  }
 },
 "nbformat": 4,
 "nbformat_minor": 2
}
